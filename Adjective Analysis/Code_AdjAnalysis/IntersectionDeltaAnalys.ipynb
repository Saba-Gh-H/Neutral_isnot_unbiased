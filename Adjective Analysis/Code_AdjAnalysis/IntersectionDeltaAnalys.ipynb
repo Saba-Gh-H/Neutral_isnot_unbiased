{
 "cells": [
  {
   "cell_type": "code",
   "execution_count": 1,
   "id": "2401d8ea-5b8f-4b0c-ab22-25da83b72466",
   "metadata": {},
   "outputs": [
    {
     "name": "stdout",
     "output_type": "stream",
     "text": [
      "Intersectional delta table saved as 'adjective_sentiment_analysis_intersectional_deltas.csv'\n"
     ]
    }
   ],
   "source": [
    "import pandas as pd\n",
    "\n",
    "# Load the original CSV\n",
    "df = pd.read_csv(\"adjective_sentiment_analysis.csv\")\n",
    "\n",
    "# Clean variation strings\n",
    "df['Variation'] = df['Variation'].str.strip()\n",
    "\n",
    "# Define the three key variations\n",
    "neutral_variation = 'Original'\n",
    "gendered_variation = 'Name 1 Female, Name 2 Male'\n",
    "intersectional_variation = 'Name 1 Female Younger, Name 2 Male Older'\n",
    "\n",
    "# Keep only those variations\n",
    "relevant_variations = [neutral_variation, gendered_variation, intersectional_variation]\n",
    "df_filtered = df[df['Variation'].isin(relevant_variations)]\n",
    "\n",
    "# Group by Model, Variation, Character and compute mean positive sentiment\n",
    "avg_sentiment = df_filtered.groupby(['Model', 'Variation', 'Character'])['Positive'].mean().reset_index()\n",
    "\n",
    "# Pivot the data to make each variation a column\n",
    "pivoted = avg_sentiment.pivot_table(index=['Model', 'Character'], columns='Variation', values='Positive').reset_index()\n",
    "\n",
    "# Compute sentiment deltas between variations\n",
    "pivoted['Delta_Gendered'] = pivoted[gendered_variation] - pivoted[neutral_variation]\n",
    "pivoted['Delta_Intersectional'] = pivoted[intersectional_variation] - pivoted[gendered_variation]\n",
    "pivoted['Delta_Original_to_Intersectional'] = pivoted[intersectional_variation] - pivoted[neutral_variation]\n",
    "\n",
    "# Save to new CSV file\n",
    "pivoted.to_csv(\"adjective_sentiment_analysis_intersectional_deltas.csv\", index=False)\n",
    "\n",
    "print(\"Intersectional delta table saved as 'adjective_sentiment_analysis_intersectional_deltas.csv'\")\n"
   ]
  },
  {
   "cell_type": "code",
   "execution_count": 4,
   "id": "5ef4bb2f-37c0-4533-850e-b5de20bd8f33",
   "metadata": {},
   "outputs": [
    {
     "name": "stdout",
     "output_type": "stream",
     "text": [
      "LaTeX-formatted table:\n",
      "\n",
      "\\begin{tabular}{llrrrrrr}\n",
      "\\toprule\n",
      "Model & Character & Name 1 Female Younger, Name 2 Male Older & Name 1 Female, Name 2 Male & Original & Delta\\_Gendered & Delta\\_Intersectional & Delta\\_Original\\_to\\_Intersectional \\\\\n",
      "\\midrule\n",
      "GPT-4o & Name 1 & 1.216000 & 1.190000 & 1.138000 & 0.052000 & 0.026000 & 0.078000 \\\\\n",
      "GPT-4o & Name 2 & 1.380000 & 1.318000 & 1.296000 & 0.022000 & 0.062000 & 0.084000 \\\\\n",
      "LLaMA 3.1 & Name 1 & 1.156000 & 1.162000 & 1.068000 & 0.094000 & -0.006000 & 0.088000 \\\\\n",
      "LLaMA 3.1 & Name 2 & 1.226000 & 1.204000 & 1.270000 & -0.066000 & 0.022000 & -0.044000 \\\\\n",
      "Mistral & Name 1 & 1.068000 & 1.132000 & 1.108000 & 0.024000 & -0.064000 & -0.040000 \\\\\n",
      "Mistral & Name 2 & 1.166000 & 1.376000 & 1.322000 & 0.054000 & -0.210000 & -0.156000 \\\\\n",
      "Phi-4 & Name 1 & 1.064000 & 1.080000 & 1.136000 & -0.056000 & -0.016000 & -0.072000 \\\\\n",
      "Phi-4 & Name 2 & 1.122000 & 1.122000 & 1.026000 & 0.096000 & 0.000000 & 0.096000 \\\\\n",
      "Qwen2.5 & Name 1 & 0.886000 & 1.056000 & 0.930000 & 0.126000 & -0.170000 & -0.044000 \\\\\n",
      "Qwen2.5 & Name 2 & 1.122000 & 1.180000 & 1.118000 & 0.062000 & -0.058000 & 0.004000 \\\\\n",
      "\\bottomrule\n",
      "\\end{tabular}\n",
      "\n"
     ]
    }
   ],
   "source": [
    "import pandas as pd\n",
    "\n",
    "# Load your CSV file with intersectional deltas\n",
    "df = pd.read_csv('adjective_sentiment_analysis_intersectional_deltas.csv')  # Ensure this file was created earlier\n",
    "\n",
    "# Convert to LaTeX table format (as string)\n",
    "latex_table = df.to_latex(index=False, escape=True)\n",
    "\n",
    "# Print the LaTeX table to the console/output\n",
    "print(\"LaTeX-formatted table:\\n\")\n",
    "print(latex_table)\n",
    "\n"
   ]
  },
  {
   "cell_type": "code",
   "execution_count": null,
   "id": "715b8856-af54-480e-8906-978afca22405",
   "metadata": {},
   "outputs": [],
   "source": []
  }
 ],
 "metadata": {
  "kernelspec": {
   "display_name": "Python 3 (ipykernel)",
   "language": "python",
   "name": "python3"
  },
  "language_info": {
   "codemirror_mode": {
    "name": "ipython",
    "version": 3
   },
   "file_extension": ".py",
   "mimetype": "text/x-python",
   "name": "python",
   "nbconvert_exporter": "python",
   "pygments_lexer": "ipython3",
   "version": "3.12.1"
  }
 },
 "nbformat": 4,
 "nbformat_minor": 5
}

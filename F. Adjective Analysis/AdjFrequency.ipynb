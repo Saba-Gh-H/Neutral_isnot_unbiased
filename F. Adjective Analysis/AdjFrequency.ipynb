{
 "cells": [
  {
   "cell_type": "code",
   "execution_count": 9,
   "id": "c859e5ec-d112-48e4-a61c-61672874bb0c",
   "metadata": {},
   "outputs": [
    {
     "name": "stdout",
     "output_type": "stream",
     "text": [
      "✅ Quantitative adjective count complete. Results saved to 'adjective_counts_by_variation_model_cleaned.csv'.\n"
     ]
    }
   ],
   "source": [
    "import pandas as pd\n",
    "\n",
    "# Load the CSV for Adjectives\n",
    "df_adjectives = pd.read_csv(\"character_adjectives_by_variation.csv\")\n",
    "\n",
    "# Clean column names\n",
    "df_adjectives.columns = [col.strip() for col in df_adjectives.columns]\n",
    "\n",
    "# Make sure the \"Adjectives\" column is evaluated as a list\n",
    "df_adjectives[\"Adjectives\"] = df_adjectives[\"Adjectives\"].apply(eval)\n",
    "\n",
    "# Explode the list of adjectives so each one gets its own row\n",
    "df_exploded_adjectives = df_adjectives.explode(\"Adjectives\").dropna(subset=[\"Adjectives\"])\n",
    "\n",
    "# Normalize: lowercase, remove *, strip\n",
    "df_exploded_adjectives[\"Adjectives\"] = (\n",
    "    df_exploded_adjectives[\"Adjectives\"]\n",
    "    .str.lower()\n",
    "    .str.replace(\"*\", \"\", regex=False)\n",
    "    .str.strip()\n",
    ")\n",
    "\n",
    "# Remove any empty adjectives or stopwords (e.g., \"other\", \"no-nonsense\")\n",
    "stop_words = set([\"other\", \"no-nonsense\", \"likely\", \"possible\", \"methodical\", \"etc.\"])  # Add more stopwords as needed\n",
    "df_exploded_adjectives = df_exploded_adjectives[~df_exploded_adjectives[\"Adjectives\"].isin(stop_words)]\n",
    "\n",
    "# Filter out any adjectives that are non-alphabetical (e.g., special characters or numbers)\n",
    "df_exploded_adjectives = df_exploded_adjectives[df_exploded_adjectives[\"Adjectives\"].str.isalpha()]\n",
    "\n",
    "# Count occurrences of each adjective per variation, model, and character\n",
    "adjective_counts = df_exploded_adjectives.groupby([\"Model\", \"Variation\", \"Character\", \"Adjectives\"]).size().reset_index(name=\"Count\")\n",
    "\n",
    "# Save the results to CSV for later use\n",
    "adjective_counts.to_csv(\"adjective_counts_by_variation_model_cleaned.csv\", index=False)\n",
    "\n",
    "print(\"✅ Quantitative adjective count complete. Results saved to 'adjective_counts_by_variation_model_cleaned.csv'.\")\n",
    "\n",
    "\n",
    "\n"
   ]
  },
  {
   "cell_type": "code",
   "execution_count": null,
   "id": "7e9e4007-77f1-4ba1-a2b9-357d70ff1680",
   "metadata": {},
   "outputs": [],
   "source": [
    "import pandas as pd\n",
    "\n",
    "# Load the CSV for Adjectives\n",
    "df_adjectives = pd.read_csv(\"character_adjectives_by_variation.csv\")\n",
    "\n",
    "# Clean column names\n",
    "df_adjectives.columns = [col.strip() for col in df_adjectives.columns]\n",
    "\n",
    "# Show the first few rows of the dataframe to understand the structure\n",
    "print(df_adjectives.head())\n"
   ]
  },
  {
   "cell_type": "code",
   "execution_count": 12,
   "id": "75838861-1aea-497c-af37-5b4b3946aa8a",
   "metadata": {},
   "outputs": [
    {
     "name": "stderr",
     "output_type": "stream",
     "text": [
      "[nltk_data] Downloading package stopwords to\n",
      "[nltk_data]     C:\\Users\\SGhanbariHaez\\AppData\\Roaming\\nltk_data...\n",
      "[nltk_data]   Package stopwords is already up-to-date!\n"
     ]
    },
    {
     "name": "stdout",
     "output_type": "stream",
     "text": [
      "✅ Quantitative adjective comparison complete. Results saved to 'adjective_comparison_across_models.csv'.\n"
     ]
    }
   ],
   "source": [
    "import pandas as pd\n",
    "from nltk.corpus import stopwords\n",
    "from nltk import download\n",
    "\n",
    "# Download stopwords if not already downloaded\n",
    "download('stopwords')\n",
    "stop_words = set(stopwords.words('english'))\n",
    "\n",
    "# Load the CSV for Adjectives\n",
    "df_adjectives = pd.read_csv(\"character_adjectives_by_variation.csv\")\n",
    "\n",
    "# Clean column names\n",
    "df_adjectives.columns = [col.strip() for col in df_adjectives.columns]\n",
    "\n",
    "# Make sure the \"Adjectives\" column is evaluated as a list\n",
    "df_adjectives[\"Adjectives\"] = df_adjectives[\"Adjectives\"].apply(eval)\n",
    "\n",
    "# Explode the list of adjectives so each one gets its own row\n",
    "df_exploded_adjectives = df_adjectives.explode(\"Adjectives\").dropna(subset=[\"Adjectives\"])\n",
    "\n",
    "# Normalize: lowercase, remove *, strip\n",
    "df_exploded_adjectives[\"Adjectives\"] = (\n",
    "    df_exploded_adjectives[\"Adjectives\"]\n",
    "    .str.lower()\n",
    "    .str.replace(\"*\", \"\", regex=False)\n",
    "    .str.strip()\n",
    ")\n",
    "\n",
    "# Remove any empty adjectives or stopwords (e.g., \"other\", \"no-nonsense\")\n",
    "stop_words = set([\"other\", \"no-nonsense\", \"likely\", \"possible\", \"methodical\", \"etc.\"])  # Add more stopwords as needed\n",
    "df_exploded_adjectives = df_exploded_adjectives[~df_exploded_adjectives[\"Adjectives\"].isin(stop_words)]\n",
    "\n",
    "# Filter out any adjectives that are non-alphabetical (e.g., special characters or numbers)\n",
    "df_exploded_adjectives = df_exploded_adjectives[df_exploded_adjectives[\"Adjectives\"].str.isalpha()]\n",
    "\n",
    "# Count occurrences of each adjective per variation, model, and character\n",
    "adjective_counts = df_exploded_adjectives.groupby([\"Model\", \"Scenario\", \"Variation\", \"Character\", \"Adjectives\"]).size().reset_index(name=\"Count\")\n",
    "\n",
    "# Pivot the table to compare adjectives across models\n",
    "adjective_pivot = adjective_counts.pivot_table(index=[\"Scenario\", \"Variation\", \"Character\", \"Adjectives\"], \n",
    "                                              columns=\"Model\", \n",
    "                                              values=\"Count\", \n",
    "                                              aggfunc=\"sum\", \n",
    "                                              fill_value=0)\n",
    "\n",
    "# Save the result to a CSV for easier inspection and analysis\n",
    "adjective_pivot.to_csv(\"adjective_comparison_across_models.csv\", index=True)\n",
    "\n",
    "print(\"✅ Quantitative adjective comparison complete. Results saved to 'adjective_comparison_across_models.csv'.\")\n"
   ]
  },
  {
   "cell_type": "code",
   "execution_count": 1,
   "id": "a33c3c59-4194-474a-a380-5c5eda2bed61",
   "metadata": {},
   "outputs": [
    {
     "name": "stdout",
     "output_type": "stream",
     "text": [
      "✅ Quantitative analysis complete. Results saved to 'normalized_adjective_comparison_by_model.csv'.\n"
     ]
    }
   ],
   "source": [
    "import pandas as pd\n",
    "\n",
    "# Load the CSV file containing adjective frequency comparisons across models\n",
    "df = pd.read_csv(\"adjective_comparison_across_models.csv\")\n",
    "\n",
    "# Clean column names\n",
    "df.columns = [col.strip() for col in df.columns]\n",
    "\n",
    "# List of stopwords to exclude\n",
    "stop_words = set([\"other\", \"no-nonsense\", \"likely\", \"possible\", \"methodical\", \"etc.\"])  # Add more stopwords as needed\n",
    "\n",
    "# Remove stopwords from the Adjectives column\n",
    "df_filtered = df[~df[\"Adjectives\"].isin(stop_words)]\n",
    "\n",
    "# Pivot the table to get the frequency of each adjective per model for each variation and character\n",
    "# Now we use the model names directly as columns and count the frequency of adjectives\n",
    "pivot_df = df_filtered.pivot_table(index=[\"Scenario\", \"Variation\", \"Character\", \"Adjectives\"],\n",
    "                                   columns=[\"Adjectives\"], \n",
    "                                   values=[\"GPT-4o\", \"LLaMA 3.1\", \"Mistral\", \"Phi-4\", \"Qwen2.5\"], \n",
    "                                   aggfunc=\"sum\", fill_value=0)\n",
    "\n",
    "# Sum the adjective counts for each model and variation combination\n",
    "pivot_df_total = pivot_df.sum(axis=1)\n",
    "\n",
    "# Normalize the data by dividing by the total number of adjectives used across all models for each variation\n",
    "pivot_df_normalized = pivot_df.div(pivot_df.sum(axis=1), axis=0)\n",
    "\n",
    "# Save the normalized results to a CSV for further analysis\n",
    "pivot_df_normalized.to_csv(\"normalized_adjective_comparison_by_model.csv\")\n",
    "\n",
    "# Print summary\n",
    "print(\"✅ Quantitative analysis complete. Results saved to 'normalized_adjective_comparison_by_model.csv'.\")\n"
   ]
  }
 ],
 "metadata": {
  "kernelspec": {
   "display_name": "Python 3 (ipykernel)",
   "language": "python",
   "name": "python3"
  },
  "language_info": {
   "codemirror_mode": {
    "name": "ipython",
    "version": 3
   },
   "file_extension": ".py",
   "mimetype": "text/x-python",
   "name": "python",
   "nbconvert_exporter": "python",
   "pygments_lexer": "ipython3",
   "version": "3.12.1"
  }
 },
 "nbformat": 4,
 "nbformat_minor": 5
}

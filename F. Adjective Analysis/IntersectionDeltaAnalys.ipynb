{
 "cells": [
  {
   "cell_type": "code",
   "execution_count": 1,
   "id": "2401d8ea-5b8f-4b0c-ab22-25da83b72466",
   "metadata": {},
   "outputs": [
    {
     "name": "stdout",
     "output_type": "stream",
     "text": [
      "Intersectional delta table saved as 'adjective_sentiment_analysis_intersectional_deltas.csv'\n"
     ]
    }
   ],
   "source": [
    "import pandas as pd\n",
    "\n",
    "# Load the original CSV\n",
    "df = pd.read_csv(\"adjective_sentiment_analysis.csv\")\n",
    "\n",
    "# Clean variation strings\n",
    "df['Variation'] = df['Variation'].str.strip()\n",
    "\n",
    "# Define the three key variations\n",
    "neutral_variation = 'Original'\n",
    "gendered_variation = 'Name 1 Female, Name 2 Male'\n",
    "intersectional_variation = 'Name 1 Female Younger, Name 2 Male Older'\n",
    "\n",
    "# Keep only those variations\n",
    "relevant_variations = [neutral_variation, gendered_variation, intersectional_variation]\n",
    "df_filtered = df[df['Variation'].isin(relevant_variations)]\n",
    "\n",
    "# Group by Model, Variation, Character and compute mean positive sentiment\n",
    "avg_sentiment = df_filtered.groupby(['Model', 'Variation', 'Character'])['Positive'].mean().reset_index()\n",
    "\n",
    "# Pivot the data to make each variation a column\n",
    "pivoted = avg_sentiment.pivot_table(index=['Model', 'Character'], columns='Variation', values='Positive').reset_index()\n",
    "\n",
    "# Compute sentiment deltas between variations\n",
    "pivoted['Delta_Gendered'] = pivoted[gendered_variation] - pivoted[neutral_variation]\n",
    "pivoted['Delta_Intersectional'] = pivoted[intersectional_variation] - pivoted[gendered_variation]\n",
    "pivoted['Delta_Original_to_Intersectional'] = pivoted[intersectional_variation] - pivoted[neutral_variation]\n",
    "\n",
    "# Save to new CSV file\n",
    "pivoted.to_csv(\"adjective_sentiment_analysis_intersectional_deltas.csv\", index=False)\n",
    "\n",
    "print(\"Intersectional delta table saved as 'adjective_sentiment_analysis_intersectional_deltas.csv'\")\n"
   ]
  },
  {
   "cell_type": "code",
   "execution_count": null,
   "id": "715b8856-af54-480e-8906-978afca22405",
   "metadata": {},
   "outputs": [],
   "source": []
  }
 ],
 "metadata": {
  "kernelspec": {
   "display_name": "Python 3 (ipykernel)",
   "language": "python",
   "name": "python3"
  },
  "language_info": {
   "codemirror_mode": {
    "name": "ipython",
    "version": 3
   },
   "file_extension": ".py",
   "mimetype": "text/x-python",
   "name": "python",
   "nbconvert_exporter": "python",
   "pygments_lexer": "ipython3",
   "version": "3.12.1"
  }
 },
 "nbformat": 4,
 "nbformat_minor": 5
}

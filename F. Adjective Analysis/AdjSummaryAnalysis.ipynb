{
 "cells": [
  {
   "cell_type": "code",
   "execution_count": 1,
   "id": "4f882a65-1085-475c-b065-0eeeb691c6a9",
   "metadata": {},
   "outputs": [
    {
     "name": "stdout",
     "output_type": "stream",
     "text": [
      "    Model    Scenario Variation    Question Character  Total_Adjectives  \\\n",
      "0  GPT-4o  Scenario_1  Original  Question_1    Name 1                 7   \n",
      "1  GPT-4o  Scenario_1  Original  Question_1    Name 2                 8   \n",
      "2  GPT-4o  Scenario_1  Original  Question_2    Name 1                12   \n",
      "3  GPT-4o  Scenario_1  Original  Question_2    Name 2                16   \n",
      "4  GPT-4o  Scenario_1  Original  Question_3    Name 1                11   \n",
      "\n",
      "   Unique_Adjectives                                     Top_Adjectives  \n",
      "0                  7  [(several, 1), (strong, 1), (creative, 1), (cl...  \n",
      "1                  8  [(following, 1), (smooth, 1), (strong, 1), (or...  \n",
      "2                 11  [(creative, 2), (several, 1), (strong, 1), (te...  \n",
      "3                 15  [(other, 2), (overall, 1), (balanced, 1), (wel...  \n",
      "4                  9  [(common, 2), (such, 2), (societal, 1), (skill...  \n"
     ]
    }
   ],
   "source": [
    "import pandas as pd\n",
    "from ast import literal_eval\n",
    "from collections import defaultdict, Counter\n",
    "\n",
    "# Load CSV file\n",
    "file_path = \"character_adjectives_by_variation.csv\"\n",
    "df = pd.read_csv(file_path)\n",
    "\n",
    "# Convert adjectives from strings to lists\n",
    "df['Adjectives'] = df['Adjectives'].apply(literal_eval)\n",
    "\n",
    "# Structure to analyze adjectives per model, scenario, variation, question, and character\n",
    "model_analysis = defaultdict(lambda: defaultdict(lambda: defaultdict(lambda: defaultdict(lambda: defaultdict(Counter)))))\n",
    "\n",
    "# Populate the structure\n",
    "for _, row in df.iterrows():\n",
    "    model = row[\"Model\"]\n",
    "    scenario = row[\"Scenario\"]\n",
    "    variation = row[\"Variation\"]\n",
    "    question = row[\"Question\"]\n",
    "    character = row[\"Character\"]\n",
    "    \n",
    "    adjectives = [adj for adj in row[\"Adjectives\"] if adj != '*']\n",
    "    model_analysis[model][scenario][variation][question][character].update(adjectives)\n",
    "\n",
    "# Flatten and summarize results\n",
    "flattened_results = []\n",
    "\n",
    "for model, scenarios in model_analysis.items():\n",
    "    for scenario, variations in scenarios.items():\n",
    "        for variation, questions in variations.items():\n",
    "            for question, characters in questions.items():\n",
    "                for character, adj_counter in characters.items():\n",
    "                    total_adj = sum(adj_counter.values())\n",
    "                    flattened_results.append({\n",
    "                        \"Model\": model,\n",
    "                        \"Scenario\": scenario,\n",
    "                        \"Variation\": variation,\n",
    "                        \"Question\": question,\n",
    "                        \"Character\": character,\n",
    "                        \"Total_Adjectives\": total_adj,\n",
    "                        \"Unique_Adjectives\": len(adj_counter),\n",
    "                        \"Top_Adjectives\": adj_counter.most_common(5)\n",
    "                    })\n",
    "\n",
    "results_df = pd.DataFrame(flattened_results)\n",
    "\n",
    "# Save summary to CSV\n",
    "results_df.to_csv(\"adjective_summary_analysis.csv\", index=False)\n",
    "\n",
    "# Display first few rows\n",
    "print(results_df.head())"
   ]
  },
  {
   "cell_type": "code",
   "execution_count": 1,
   "id": "81204e70-87b3-49b0-a4ad-bace09121cef",
   "metadata": {},
   "outputs": [
    {
     "name": "stderr",
     "output_type": "stream",
     "text": [
      "[nltk_data] Downloading package vader_lexicon to\n",
      "[nltk_data]     C:\\Users\\SGhanbariHaez\\AppData\\Roaming\\nltk_data...\n",
      "[nltk_data]   Package vader_lexicon is already up-to-date!\n"
     ]
    },
    {
     "name": "stdout",
     "output_type": "stream",
     "text": [
      "    Model    Scenario Variation    Question Character  Total_Adjectives  \\\n",
      "0  GPT-4o  Scenario_1  Original  Question_1    Name 1                 7   \n",
      "1  GPT-4o  Scenario_1  Original  Question_1    Name 2                 8   \n",
      "2  GPT-4o  Scenario_1  Original  Question_2    Name 1                12   \n",
      "3  GPT-4o  Scenario_1  Original  Question_2    Name 2                16   \n",
      "4  GPT-4o  Scenario_1  Original  Question_3    Name 1                11   \n",
      "\n",
      "   Unique_Adjectives                                     Top_Adjectives  \\\n",
      "0                  7  [(several, 1), (strong, 1), (creative, 1), (cl...   \n",
      "1                  8  [(following, 1), (smooth, 1), (strong, 1), (or...   \n",
      "2                 11  [(creative, 2), (several, 1), (strong, 1), (te...   \n",
      "3                 15  [(other, 2), (overall, 1), (balanced, 1), (wel...   \n",
      "4                  9  [(common, 2), (such, 2), (societal, 1), (skill...   \n",
      "\n",
      "   Positive  Negative  Neutral  \n",
      "0         2         0        3  \n",
      "1         1         0        4  \n",
      "2         2         0        3  \n",
      "3         0         0        5  \n",
      "4         1         0        4  \n"
     ]
    }
   ],
   "source": [
    "import pandas as pd\n",
    "from nltk.sentiment.vader import SentimentIntensityAnalyzer\n",
    "import nltk\n",
    "from ast import literal_eval\n",
    "\n",
    "# Load sentiment analyzer\n",
    "nltk.download('vader_lexicon')\n",
    "sid = SentimentIntensityAnalyzer()\n",
    "\n",
    "# Load the summarized adjective CSV\n",
    "file_path = \"adjective_summary_analysis.csv\"\n",
    "df = pd.read_csv(file_path)\n",
    "\n",
    "# Function to determine sentiment\n",
    "def adjective_sentiment(adj_list):\n",
    "    sentiments = {'positive': 0, 'negative': 0, 'neutral': 0}\n",
    "    for adj, _ in adj_list:\n",
    "        score = sid.polarity_scores(adj)['compound']\n",
    "        if score >= 0.2:\n",
    "            sentiments['positive'] += 1\n",
    "        elif score <= -0.2:\n",
    "            sentiments['negative'] += 1\n",
    "        else:\n",
    "            sentiments['neutral'] += 1\n",
    "    return sentiments\n",
    "\n",
    "# Convert stringified lists back to lists of tuples\n",
    "df['Top_Adjectives'] = df['Top_Adjectives'].apply(literal_eval)\n",
    "\n",
    "# Calculate sentiment distribution\n",
    "df[['Positive', 'Negative', 'Neutral']] = df['Top_Adjectives'].apply(lambda x: pd.Series(adjective_sentiment(x)))\n",
    "\n",
    "# Save results to CSV\n",
    "df.to_csv(\"adjective_sentiment_analysis.csv\", index=False)\n",
    "\n",
    "# Display results\n",
    "print(df.head())\n"
   ]
  },
  {
   "cell_type": "code",
   "execution_count": 2,
   "id": "6ba7e301-e278-443f-bb60-5e10f2ca9b32",
   "metadata": {},
   "outputs": [
    {
     "name": "stdout",
     "output_type": "stream",
     "text": [
      "       Model Character  Positive  Negative  Neutral\n",
      "0     GPT-4o    Name 1    1.1744    0.0036   3.5744\n",
      "1     GPT-4o    Name 2    1.3472    0.0156   3.4660\n",
      "2  LLaMA 3.1    Name 1    1.1148    0.0084   3.7972\n",
      "3  LLaMA 3.1    Name 2    1.2432    0.0304   3.6868\n",
      "4    Mistral    Name 1    1.1244    0.0036   3.8060\n",
      "5    Mistral    Name 2    1.3064    0.0160   3.6524\n",
      "6      Phi-4    Name 1    1.1124    0.0036   3.8176\n",
      "7      Phi-4    Name 2    1.1504    0.0152   3.7744\n",
      "8    Qwen2.5    Name 1    0.9556    0.0060   3.9772\n",
      "9    Qwen2.5    Name 2    1.1528    0.0360   3.7772\n"
     ]
    }
   ],
   "source": [
    "# Aggregate sentiment scores by Model and Character\n",
    "sentiment_avg = df.groupby(['Model', 'Character'])[['Positive', 'Negative', 'Neutral']].mean().reset_index()\n",
    "\n",
    "# Save to CSV for easy inclusion in your paper\n",
    "sentiment_avg.to_csv(\"average_sentiment_per_character.csv\", index=False)\n",
    "\n",
    "# Display table\n",
    "print(sentiment_avg)\n"
   ]
  },
  {
   "cell_type": "code",
   "execution_count": 4,
   "id": "5945da35-0607-44e5-9159-2ae7499716f3",
   "metadata": {},
   "outputs": [
    {
     "name": "stdout",
     "output_type": "stream",
     "text": [
      "     Scenario                                 Variation    Question  \\\n",
      "0  Scenario_1  Name 1 Female Younger, Name 2 Male Older  Question_1   \n",
      "1  Scenario_1  Name 1 Female Younger, Name 2 Male Older  Question_2   \n",
      "2  Scenario_1  Name 1 Female Younger, Name 2 Male Older  Question_3   \n",
      "3  Scenario_1  Name 1 Female Younger, Name 2 Male Older  Question_4   \n",
      "4  Scenario_1  Name 1 Female Younger, Name 2 Male Older  Question_5   \n",
      "\n",
      "   Negative_Name 1  Negative_Name 2  Neutral_Name 1  Neutral_Name 2  \\\n",
      "0              0.0              0.0             4.0             3.6   \n",
      "1              0.0              0.0             4.0             4.2   \n",
      "2              0.0              0.0             4.4             4.6   \n",
      "3              0.0              0.0             4.0             3.8   \n",
      "4              0.0              0.0             3.6             2.6   \n",
      "\n",
      "   Positive_Name 1  Positive_Name 2  \n",
      "0              1.0              1.4  \n",
      "1              1.0              0.8  \n",
      "2              0.6              0.4  \n",
      "3              1.0              1.2  \n",
      "4              1.4              2.4  \n"
     ]
    }
   ],
   "source": [
    "import pandas as pd\n",
    "\n",
    "# Load the detailed sentiment analysis CSV\n",
    "df = pd.read_csv(\"adjective_sentiment_analysis.csv\")\n",
    "\n",
    "# Character comparison by aggregating sentiment within each Scenario, Variation, and Question\n",
    "comparison_df = df.groupby(['Scenario', 'Variation', 'Question', 'Character'])[['Positive', 'Negative', 'Neutral']].mean().reset_index()\n",
    "\n",
    "# Pivot for easier character comparison within the same scenario-question pair\n",
    "pivot_df = comparison_df.pivot_table(index=['Scenario', 'Variation', 'Question'],\n",
    "                                     columns='Character',\n",
    "                                     values=['Positive', 'Negative', 'Neutral'])\n",
    "\n",
    "# Flatten multi-level column names\n",
    "pivot_df.columns = ['_'.join(col).strip() for col in pivot_df.columns.values]\n",
    "pivot_df.reset_index(inplace=True)\n",
    "\n",
    "# Save the comparison table\n",
    "pivot_df.to_csv(\"character_comparison_analysis.csv\", index=False)\n",
    "\n",
    "# Display the top rows\n",
    "print(pivot_df.head())\n"
   ]
  },
  {
   "cell_type": "code",
   "execution_count": null,
   "id": "5c802f72-0729-4f07-81aa-38c016b22100",
   "metadata": {},
   "outputs": [],
   "source": []
  }
 ],
 "metadata": {
  "kernelspec": {
   "display_name": "Python 3 (ipykernel)",
   "language": "python",
   "name": "python3"
  },
  "language_info": {
   "codemirror_mode": {
    "name": "ipython",
    "version": 3
   },
   "file_extension": ".py",
   "mimetype": "text/x-python",
   "name": "python",
   "nbconvert_exporter": "python",
   "pygments_lexer": "ipython3",
   "version": "3.12.1"
  }
 },
 "nbformat": 4,
 "nbformat_minor": 5
}
